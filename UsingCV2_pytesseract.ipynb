{
 "cells": [
  {
   "cell_type": "code",
   "execution_count": 58,
   "id": "37b126fb",
   "metadata": {},
   "outputs": [],
   "source": [
    "import cv2\n",
    "import pytesseract"
   ]
  },
  {
   "cell_type": "code",
   "execution_count": 116,
   "id": "a532bca1",
   "metadata": {},
   "outputs": [],
   "source": [
    "pytesseract.pytesseract.tesseract_cmd = r\"F:\\Tesseract-OCR\\tesseract.exe\"\n",
    "image = cv2.imread(r\"F:\\Hackathon\\hackathon\\test\\dyslexia\\gnd.png\")\n",
    "grayscale = cv2.cvtColor(image, cv2.COLOR_RGB2GRAY)\n",
    "adaptive = cv2.adaptiveThreshold(grayscale, 255, cv2.ADAPTIVE_THRESH_GAUSSIAN_C, cv2.THRESH_BINARY, 61, 42)"
   ]
  },
  {
   "cell_type": "code",
   "execution_count": 117,
   "id": "3f667fae",
   "metadata": {},
   "outputs": [
    {
     "name": "stdout",
     "output_type": "stream",
     "text": [
      "Oak mM iC A one\n",
      "\n"
     ]
    }
   ],
   "source": [
    "text = pytesseract.image_to_string(adaptive)\n",
    "print(text)"
   ]
  },
  {
   "cell_type": "code",
   "execution_count": 118,
   "id": "69facf3f",
   "metadata": {},
   "outputs": [
    {
     "name": "stdout",
     "output_type": "stream",
     "text": [
      "0\n"
     ]
    }
   ],
   "source": [
    "from textblob import Word\n",
    "count = 0\n",
    "word = Word(text)\n",
    "result = word.correct()\n",
    "if result!=word:\n",
    "    count+=1\n",
    "print(count)\n"
   ]
  },
  {
   "cell_type": "code",
   "execution_count": null,
   "id": "d596112c",
   "metadata": {},
   "outputs": [],
   "source": []
  }
 ],
 "metadata": {
  "kernelspec": {
   "display_name": "Python 3 (ipykernel)",
   "language": "python",
   "name": "python3"
  },
  "language_info": {
   "codemirror_mode": {
    "name": "ipython",
    "version": 3
   },
   "file_extension": ".py",
   "mimetype": "text/x-python",
   "name": "python",
   "nbconvert_exporter": "python",
   "pygments_lexer": "ipython3",
   "version": "3.9.12"
  }
 },
 "nbformat": 4,
 "nbformat_minor": 5
}
